{
 "cells": [
  {
   "cell_type": "code",
   "execution_count": 23,
   "id": "ef74eb45",
   "metadata": {},
   "outputs": [],
   "source": [
    "import os\n",
    "import CityHub\n",
    "#import folium\n",
    "import geopandas as gpd\n",
    "import pandas as pd\n",
    "\n",
    "import math\n",
    "from statistics import mean"
   ]
  },
  {
   "cell_type": "code",
   "execution_count": 24,
   "id": "ab765d32",
   "metadata": {},
   "outputs": [
    {
     "name": "stdout",
     "output_type": "stream",
     "text": [
      "Loading file...\n",
      "Preprocessing city mesh...\n",
      "Refining mesh...\n"
     ]
    }
   ],
   "source": [
    "ch = CityHub.CityHub('São Paulo, São Paulo, Brazil')"
   ]
  },
  {
   "cell_type": "code",
   "execution_count": 26,
   "id": "b3c7c959",
   "metadata": {},
   "outputs": [],
   "source": [
    "G = ch.city_street_graph"
   ]
  },
  {
   "cell_type": "code",
   "execution_count": 27,
   "id": "8f8a7a80",
   "metadata": {},
   "outputs": [
    {
     "name": "stdout",
     "output_type": "stream",
     "text": [
      "Refining mesh...\n"
     ]
    },
    {
     "data": {
      "text/plain": [
       "0"
      ]
     },
     "execution_count": 27,
     "metadata": {},
     "output_type": "execute_result"
    }
   ],
   "source": [
    "ch.load_PALayer_mesh('data/sp/sp_setores_censitarios/35SEE250GC_SIR.shp','CD_GEOCODI',40.0)"
   ]
  },
  {
   "cell_type": "code",
   "execution_count": 28,
   "id": "77890af7",
   "metadata": {},
   "outputs": [
    {
     "data": {
      "text/plain": [
       "True"
      ]
     },
     "execution_count": 28,
     "metadata": {},
     "output_type": "execute_result"
    }
   ],
   "source": [
    "#ch.load_PALayers_csv_data(0,'data/sp/census_data/sp_dados_demograficos_setores2010.csv','Cod_setor')\n",
    "ch.load_PALayers_csv_data(0,'data/sp/census_data/data_preprocess.csv','Cod_setor')"
   ]
  },
  {
   "cell_type": "code",
   "execution_count": 29,
   "id": "e31398d9",
   "metadata": {},
   "outputs": [
    {
     "data": {
      "text/plain": [
       "0"
      ]
     },
     "execution_count": 29,
     "metadata": {},
     "output_type": "execute_result"
    }
   ],
   "source": [
    "ch.load_PBLayer('data/sp/infraestrutura/SAD69-96_SHP_pontoonibus/SAD69-96_SHP_pontoonibus.shp',23,'K',True,-45.0,-45.0)"
   ]
  },
  {
   "cell_type": "code",
   "execution_count": 30,
   "id": "d4f0f29e",
   "metadata": {},
   "outputs": [
    {
     "data": {
      "text/plain": [
       "1"
      ]
     },
     "execution_count": 30,
     "metadata": {},
     "output_type": "execute_result"
    }
   ],
   "source": [
    "ch.load_PBLayer('data/sp/infraestrutura/SAD69-96_SHP_estacaometro/SAD69-96_SHP_estacaometro_point.shp',23,'K')"
   ]
  },
  {
   "cell_type": "code",
   "execution_count": 31,
   "id": "285eef4f",
   "metadata": {},
   "outputs": [
    {
     "data": {
      "text/plain": [
       "2"
      ]
     },
     "execution_count": 31,
     "metadata": {},
     "output_type": "execute_result"
    }
   ],
   "source": [
    "ch.load_PBLayer('data/sp/infraestrutura/SAD69-96_SHP_estacaotrem/SAD69-96_SHP_estacaotrem.shp',23,'K')"
   ]
  },
  {
   "cell_type": "code",
   "execution_count": 32,
   "id": "1b47c785",
   "metadata": {},
   "outputs": [
    {
     "data": {
      "text/plain": [
       "3"
      ]
     },
     "execution_count": 32,
     "metadata": {},
     "output_type": "execute_result"
    }
   ],
   "source": [
    "ch.load_PBLayer('data/sp/infraestrutura/terminal_onibus/sad6996_terminal_onibus.shp',23,'K')"
   ]
  },
  {
   "cell_type": "code",
   "execution_count": 33,
   "id": "a8ce7811",
   "metadata": {},
   "outputs": [
    {
     "data": {
      "text/plain": [
       "4"
      ]
     },
     "execution_count": 33,
     "metadata": {},
     "output_type": "execute_result"
    }
   ],
   "source": [
    "ch.load_PBLayer_csv_data('data/sp/crimes.csv','latitude','longitude',project_to_corners = True)"
   ]
  },
  {
   "cell_type": "code",
   "execution_count": 34,
   "id": "c1ffe0f7",
   "metadata": {},
   "outputs": [],
   "source": [
    "ch.save_preprocessed_CityHub('data/sp-4-abr-23.bin')"
   ]
  },
  {
   "cell_type": "code",
   "execution_count": 37,
   "id": "19cd8305",
   "metadata": {},
   "outputs": [
    {
     "data": {
      "text/plain": [
       "121542"
      ]
     },
     "execution_count": 37,
     "metadata": {},
     "output_type": "execute_result"
    }
   ],
   "source": [
    "len(ch.city_vert_list)"
   ]
  },
  {
   "cell_type": "code",
   "execution_count": 179,
   "id": "a5201ef6",
   "metadata": {},
   "outputs": [
    {
     "data": {
      "text/html": [
       "<div>\n",
       "<style scoped>\n",
       "    .dataframe tbody tr th:only-of-type {\n",
       "        vertical-align: middle;\n",
       "    }\n",
       "\n",
       "    .dataframe tbody tr th {\n",
       "        vertical-align: top;\n",
       "    }\n",
       "\n",
       "    .dataframe thead th {\n",
       "        text-align: right;\n",
       "    }\n",
       "</style>\n",
       "<table border=\"1\" class=\"dataframe\">\n",
       "  <thead>\n",
       "    <tr style=\"text-align: right;\">\n",
       "      <th></th>\n",
       "      <th>vert</th>\n",
       "      <th>geometry</th>\n",
       "    </tr>\n",
       "  </thead>\n",
       "  <tbody>\n",
       "    <tr>\n",
       "      <th>0</th>\n",
       "      <td>0</td>\n",
       "      <td>POINT (-23.56299 -46.70397)</td>\n",
       "    </tr>\n",
       "    <tr>\n",
       "      <th>1</th>\n",
       "      <td>1</td>\n",
       "      <td>POINT (-23.56746 -46.70223)</td>\n",
       "    </tr>\n",
       "    <tr>\n",
       "      <th>2</th>\n",
       "      <td>2</td>\n",
       "      <td>POINT (-23.57296 -46.69923)</td>\n",
       "    </tr>\n",
       "    <tr>\n",
       "      <th>3</th>\n",
       "      <td>3</td>\n",
       "      <td>POINT (-23.57183 -46.70207)</td>\n",
       "    </tr>\n",
       "    <tr>\n",
       "      <th>4</th>\n",
       "      <td>4</td>\n",
       "      <td>POINT (-23.53462 -46.74815)</td>\n",
       "    </tr>\n",
       "    <tr>\n",
       "      <th>...</th>\n",
       "      <td>...</td>\n",
       "      <td>...</td>\n",
       "    </tr>\n",
       "    <tr>\n",
       "      <th>121537</th>\n",
       "      <td>121537</td>\n",
       "      <td>POINT (-23.55463 -46.53176)</td>\n",
       "    </tr>\n",
       "    <tr>\n",
       "      <th>121538</th>\n",
       "      <td>121538</td>\n",
       "      <td>POINT (-23.57349 -46.49451)</td>\n",
       "    </tr>\n",
       "    <tr>\n",
       "      <th>121539</th>\n",
       "      <td>121539</td>\n",
       "      <td>POINT (-23.57281 -46.49286)</td>\n",
       "    </tr>\n",
       "    <tr>\n",
       "      <th>121540</th>\n",
       "      <td>121540</td>\n",
       "      <td>POINT (-23.56551 -46.48308)</td>\n",
       "    </tr>\n",
       "    <tr>\n",
       "      <th>121541</th>\n",
       "      <td>121541</td>\n",
       "      <td>POINT (-23.56556 -46.48295)</td>\n",
       "    </tr>\n",
       "  </tbody>\n",
       "</table>\n",
       "<p>121542 rows × 2 columns</p>\n",
       "</div>"
      ],
      "text/plain": [
       "          vert                     geometry\n",
       "0            0  POINT (-23.56299 -46.70397)\n",
       "1            1  POINT (-23.56746 -46.70223)\n",
       "2            2  POINT (-23.57296 -46.69923)\n",
       "3            3  POINT (-23.57183 -46.70207)\n",
       "4            4  POINT (-23.53462 -46.74815)\n",
       "...        ...                          ...\n",
       "121537  121537  POINT (-23.55463 -46.53176)\n",
       "121538  121538  POINT (-23.57349 -46.49451)\n",
       "121539  121539  POINT (-23.57281 -46.49286)\n",
       "121540  121540  POINT (-23.56551 -46.48308)\n",
       "121541  121541  POINT (-23.56556 -46.48295)\n",
       "\n",
       "[121542 rows x 2 columns]"
      ]
     },
     "execution_count": 179,
     "metadata": {},
     "output_type": "execute_result"
    }
   ],
   "source": [
    "from shapely.geometry import Polygon, Point\n",
    "\n",
    "city_vert_gdf = gpd.GeoDataFrame(list(range(0,len(ch.city_vert_list))),geometry = gpd.points_from_xy(pd.DataFrame(ch.city_vert_list)[0], pd.DataFrame(ch.city_vert_list)[1]))\n",
    "city_vert_gdf.columns = [\"vert\", \"geometry\"]\n",
    "city_vert_gdf"
   ]
  },
  {
   "cell_type": "code",
   "execution_count": 180,
   "id": "4027bd10",
   "metadata": {},
   "outputs": [],
   "source": [
    "#city_vert_gdf = city_vert_gdf.head(100)\n",
    "#city_vert_gdf = city_vert_gdf.iloc[:2]\n",
    "#city_vert_gdf"
   ]
  },
  {
   "cell_type": "code",
   "execution_count": 181,
   "id": "6a3b17e4",
   "metadata": {},
   "outputs": [],
   "source": [
    "import types\n",
    "\n",
    "def compute_layer_crimes(layer, ch, initial_date = None, final_date = None):\n",
    "\n",
    "        tmp_layer_crimes = ch.PBLayers[layer].copy()\n",
    "        if((not initial_date is None) or (not final_date is None)):\n",
    "            tmp_layer_crimes[\"time\"] = pd.to_datetime(tmp_layer_crimes[\"time\"], format = \"%Y/%m/%d\", errors = 'coerce')\n",
    "            tmp_layer_crimes = tmp_layer_crimes[tmp_layer_crimes['time'].notna()]\n",
    "            if(not initial_date is None):\n",
    "                tmp_layer_crimes = tmp_layer_crimes[tmp_layer_crimes[\"time\"] >= initial_date]\n",
    "            if(not final_date is None):\n",
    "                tmp_layer_crimes = tmp_layer_crimes[tmp_layer_crimes[\"time\"] <= final_date]\n",
    "\n",
    "\n",
    "        aux = pd.DataFrame(tmp_layer_crimes[[\"vert\"]].value_counts().keys().tolist(), columns = [\"vert\"])\n",
    "\n",
    "        aux[\"n\"] = tmp_layer_crimes[[\"vert\"]].value_counts().values\n",
    "        #print(aux)\n",
    "        #print(tmp_layer_crimes)\n",
    "        \n",
    "        df_vert = pd.DataFrame()\n",
    "        df_vert['vert'] = list(ch.city_vert_dict.values())\n",
    "        \n",
    "        df_vert = df_vert.merge(aux, how='left', on='vert')\n",
    "        df_vert['n'] = df_vert['n'].fillna(0)\n",
    "\n",
    "        return df_vert"
   ]
  },
  {
   "cell_type": "code",
   "execution_count": 183,
   "id": "dd8700db",
   "metadata": {},
   "outputs": [],
   "source": [
    "def compute_dynamic_feature_df(ch, initial_date = None, final_date = None):\n",
    "    \n",
    "    # crimes\n",
    "    feature_df = compute_layer_crimes(layer = 4, ch = ch, initial_date = initial_date, final_date = final_date)\n",
    "    \n",
    "    return feature_df"
   ]
  },
  {
   "cell_type": "code",
   "execution_count": 187,
   "id": "384c7ff5",
   "metadata": {},
   "outputs": [],
   "source": [
    "import datetime\n",
    "\n",
    "#Calcular X das features dinâmicas\n",
    "x1 = datetime.datetime(2016, 5, 17)\n",
    "x2 = datetime.datetime(2017, 5, 17)\n",
    "X_dynamic = compute_dynamic_feature_df(ch,x1,x2)"
   ]
  },
  {
   "cell_type": "code",
   "execution_count": 188,
   "id": "9c7fc016",
   "metadata": {},
   "outputs": [
    {
     "data": {
      "text/html": [
       "<div>\n",
       "<style scoped>\n",
       "    .dataframe tbody tr th:only-of-type {\n",
       "        vertical-align: middle;\n",
       "    }\n",
       "\n",
       "    .dataframe tbody tr th {\n",
       "        vertical-align: top;\n",
       "    }\n",
       "\n",
       "    .dataframe thead th {\n",
       "        text-align: right;\n",
       "    }\n",
       "</style>\n",
       "<table border=\"1\" class=\"dataframe\">\n",
       "  <thead>\n",
       "    <tr style=\"text-align: right;\">\n",
       "      <th></th>\n",
       "      <th>vert</th>\n",
       "      <th>n</th>\n",
       "    </tr>\n",
       "  </thead>\n",
       "  <tbody>\n",
       "    <tr>\n",
       "      <th>0</th>\n",
       "      <td>0</td>\n",
       "      <td>0.0</td>\n",
       "    </tr>\n",
       "    <tr>\n",
       "      <th>1</th>\n",
       "      <td>1</td>\n",
       "      <td>3.0</td>\n",
       "    </tr>\n",
       "    <tr>\n",
       "      <th>2</th>\n",
       "      <td>2</td>\n",
       "      <td>3.0</td>\n",
       "    </tr>\n",
       "    <tr>\n",
       "      <th>3</th>\n",
       "      <td>3</td>\n",
       "      <td>0.0</td>\n",
       "    </tr>\n",
       "    <tr>\n",
       "      <th>4</th>\n",
       "      <td>4</td>\n",
       "      <td>0.0</td>\n",
       "    </tr>\n",
       "    <tr>\n",
       "      <th>...</th>\n",
       "      <td>...</td>\n",
       "      <td>...</td>\n",
       "    </tr>\n",
       "    <tr>\n",
       "      <th>121537</th>\n",
       "      <td>121537</td>\n",
       "      <td>1.0</td>\n",
       "    </tr>\n",
       "    <tr>\n",
       "      <th>121538</th>\n",
       "      <td>121538</td>\n",
       "      <td>2.0</td>\n",
       "    </tr>\n",
       "    <tr>\n",
       "      <th>121539</th>\n",
       "      <td>121539</td>\n",
       "      <td>0.0</td>\n",
       "    </tr>\n",
       "    <tr>\n",
       "      <th>121540</th>\n",
       "      <td>121540</td>\n",
       "      <td>2.0</td>\n",
       "    </tr>\n",
       "    <tr>\n",
       "      <th>121541</th>\n",
       "      <td>121541</td>\n",
       "      <td>0.0</td>\n",
       "    </tr>\n",
       "  </tbody>\n",
       "</table>\n",
       "<p>121542 rows × 2 columns</p>\n",
       "</div>"
      ],
      "text/plain": [
       "          vert    n\n",
       "0            0  0.0\n",
       "1            1  3.0\n",
       "2            2  3.0\n",
       "3            3  0.0\n",
       "4            4  0.0\n",
       "...        ...  ...\n",
       "121537  121537  1.0\n",
       "121538  121538  2.0\n",
       "121539  121539  0.0\n",
       "121540  121540  2.0\n",
       "121541  121541  0.0\n",
       "\n",
       "[121542 rows x 2 columns]"
      ]
     },
     "execution_count": 188,
     "metadata": {},
     "output_type": "execute_result"
    }
   ],
   "source": [
    "X_dynamic"
   ]
  },
  {
   "cell_type": "code",
   "execution_count": 189,
   "id": "2f32fb0d",
   "metadata": {},
   "outputs": [
    {
     "data": {
      "text/plain": [
       "109110.0"
      ]
     },
     "execution_count": 189,
     "metadata": {},
     "output_type": "execute_result"
    }
   ],
   "source": [
    "X_dynamic.n.sum()"
   ]
  },
  {
   "cell_type": "code",
   "execution_count": 126,
   "id": "03aa211e",
   "metadata": {},
   "outputs": [
    {
     "name": "stdout",
     "output_type": "stream",
     "text": [
      "<class 'pandas.core.frame.DataFrame'>\n",
      "Int64Index: 737856 entries, 0 to 737855\n",
      "Data columns (total 6 columns):\n",
      " #   Column      Non-Null Count   Dtype         \n",
      "---  ------      --------------   -----         \n",
      " 0   Unnamed: 0  737856 non-null  int64         \n",
      " 1   latitude    737856 non-null  object        \n",
      " 2   longitude   737856 non-null  object        \n",
      " 3   time        737856 non-null  datetime64[ns]\n",
      " 4   latlong     737856 non-null  object        \n",
      " 5   vert        737856 non-null  int64         \n",
      "dtypes: datetime64[ns](1), int64(2), object(3)\n",
      "memory usage: 55.5+ MB\n"
     ]
    }
   ],
   "source": [
    "tmp_layer_crimes = ch.PBLayers[4].copy()\n",
    "\n",
    "tmp_layer_crimes[\"time\"] = pd.to_datetime(tmp_layer_crimes[\"time\"], format = \"%Y/%m/%d\", errors = 'coerce')\n",
    "tmp_layer_crimes.info()"
   ]
  },
  {
   "cell_type": "code",
   "execution_count": 40,
   "id": "69d4805d",
   "metadata": {},
   "outputs": [],
   "source": [
    "def compute_static_feature_vector(vert_ind, dist):\n",
    "\n",
    "    feature_vec = pd.Series(dtype=float)\n",
    "\n",
    "    layer_pontodeonibus = 0\n",
    "    layer_estacaodemetro = 1\n",
    "    layer_estacaodetrem = 2\n",
    "    layer_terminaldeonibus = 3\n",
    "\n",
    "    query_coords=ch.city_vert_list[vert_ind]\n",
    "\n",
    "#       ibge\n",
    "    ibge_list = pd.Series([0.0]*7)\n",
    "    ibge_list.index = ['V001', 'V002', 'V003', 'V055', 'V056', 'V057', 'V065']\n",
    "\n",
    "    for i in range(len(ibge_list.index)):\n",
    "        feats = ch.polygon_features_from_PALayer_vertex(0, vert_ind,  ibge_list.index[i])\n",
    "        if len(feats)==0:\n",
    "            return pd.Series(dtype=float)\n",
    "        for f in feats:\n",
    "            if math.isnan(f):\n",
    "                print('entrou onde eu quero')\n",
    "                return pd.Series(dtype=float)\n",
    "        ibge_list[i]=mean(feats)\n",
    "    feature_vec = pd.concat([feature_vec, ibge_list])\n",
    "\n",
    "#       transporte\n",
    "    transporte_indices = ['Pontos_de_onibus','Estacao_de_metro', 'Estacao_de_trem', 'Terminal_de_onibus']\n",
    "    transporte_list = pd.Series([0.0]*len(transporte_indices), index = transporte_indices)\n",
    "    transporte_list['Pontos_de_onibus'] = len(ch.query_point_in_PBLayer(layer_pontodeonibus,query_coords[0],query_coords[1],dist))\n",
    "    transporte_list['Estacao_de_metro'] = len(ch.query_point_in_PBLayer(layer_estacaodemetro,query_coords[0],query_coords[1],dist))\n",
    "    transporte_list['Estacao_de_trem'] = len(ch.query_point_in_PBLayer(layer_estacaodetrem,query_coords[0],query_coords[1],dist))\n",
    "    transporte_list['Terminal_de_onibus'] = len(ch.query_point_in_PBLayer(layer_terminaldeonibus,query_coords[0],query_coords[1],dist))\n",
    "\n",
    "    feature_vec = pd.concat([feature_vec, transporte_list])\n",
    "\n",
    "#       favelas\n",
    "#    favela_indices = ['Favela_proxima']\n",
    "#    favela_list = pd.Series([0.0]*len(favela_indices), index = favela_indices)\n",
    "#    favela_list['Favela_proxima'] = (len(ch.query_point_in_RDLayer(0, query_coords[0],query_coords[1],0.5,True))>0)*1\n",
    "\n",
    "#    feature_vec = pd.concat([feature_vec, favela_list])\n",
    "\n",
    "    return feature_vec"
   ]
  },
  {
   "cell_type": "code",
   "execution_count": 41,
   "id": "4091d3d3",
   "metadata": {},
   "outputs": [],
   "source": [
    "X_static = city_vert_gdf[\"vert\"].apply(lambda vert: compute_static_feature_vector(vert, 0.2))"
   ]
  },
  {
   "cell_type": "code",
   "execution_count": 42,
   "id": "ddf411c8",
   "metadata": {},
   "outputs": [
    {
     "data": {
      "text/html": [
       "<div>\n",
       "<style scoped>\n",
       "    .dataframe tbody tr th:only-of-type {\n",
       "        vertical-align: middle;\n",
       "    }\n",
       "\n",
       "    .dataframe tbody tr th {\n",
       "        vertical-align: top;\n",
       "    }\n",
       "\n",
       "    .dataframe thead th {\n",
       "        text-align: right;\n",
       "    }\n",
       "</style>\n",
       "<table border=\"1\" class=\"dataframe\">\n",
       "  <thead>\n",
       "    <tr style=\"text-align: right;\">\n",
       "      <th></th>\n",
       "      <th>V001</th>\n",
       "      <th>V002</th>\n",
       "      <th>V003</th>\n",
       "      <th>V055</th>\n",
       "      <th>V056</th>\n",
       "      <th>V057</th>\n",
       "      <th>V065</th>\n",
       "      <th>Pontos_de_onibus</th>\n",
       "      <th>Estacao_de_metro</th>\n",
       "      <th>Estacao_de_trem</th>\n",
       "      <th>Terminal_de_onibus</th>\n",
       "    </tr>\n",
       "  </thead>\n",
       "  <tbody>\n",
       "    <tr>\n",
       "      <th>0</th>\n",
       "      <td>NaN</td>\n",
       "      <td>NaN</td>\n",
       "      <td>NaN</td>\n",
       "      <td>NaN</td>\n",
       "      <td>NaN</td>\n",
       "      <td>NaN</td>\n",
       "      <td>NaN</td>\n",
       "      <td>NaN</td>\n",
       "      <td>NaN</td>\n",
       "      <td>NaN</td>\n",
       "      <td>NaN</td>\n",
       "    </tr>\n",
       "    <tr>\n",
       "      <th>1</th>\n",
       "      <td>265.0</td>\n",
       "      <td>265.333333</td>\n",
       "      <td>258.666667</td>\n",
       "      <td>17.666667</td>\n",
       "      <td>19.0</td>\n",
       "      <td>87.666667</td>\n",
       "      <td>22.666667</td>\n",
       "      <td>28.0</td>\n",
       "      <td>1.0</td>\n",
       "      <td>1.0</td>\n",
       "      <td>0.0</td>\n",
       "    </tr>\n",
       "    <tr>\n",
       "      <th>2</th>\n",
       "      <td>66.0</td>\n",
       "      <td>65.500000</td>\n",
       "      <td>46.000000</td>\n",
       "      <td>3.500000</td>\n",
       "      <td>1.5</td>\n",
       "      <td>9.500000</td>\n",
       "      <td>5.500000</td>\n",
       "      <td>3.0</td>\n",
       "      <td>0.0</td>\n",
       "      <td>1.0</td>\n",
       "      <td>0.0</td>\n",
       "    </tr>\n",
       "    <tr>\n",
       "      <th>3</th>\n",
       "      <td>NaN</td>\n",
       "      <td>NaN</td>\n",
       "      <td>NaN</td>\n",
       "      <td>NaN</td>\n",
       "      <td>NaN</td>\n",
       "      <td>NaN</td>\n",
       "      <td>NaN</td>\n",
       "      <td>NaN</td>\n",
       "      <td>NaN</td>\n",
       "      <td>NaN</td>\n",
       "      <td>NaN</td>\n",
       "    </tr>\n",
       "    <tr>\n",
       "      <th>4</th>\n",
       "      <td>NaN</td>\n",
       "      <td>NaN</td>\n",
       "      <td>NaN</td>\n",
       "      <td>NaN</td>\n",
       "      <td>NaN</td>\n",
       "      <td>NaN</td>\n",
       "      <td>NaN</td>\n",
       "      <td>NaN</td>\n",
       "      <td>NaN</td>\n",
       "      <td>NaN</td>\n",
       "      <td>NaN</td>\n",
       "    </tr>\n",
       "    <tr>\n",
       "      <th>5</th>\n",
       "      <td>149.0</td>\n",
       "      <td>149.000000</td>\n",
       "      <td>140.500000</td>\n",
       "      <td>11.500000</td>\n",
       "      <td>9.5</td>\n",
       "      <td>49.500000</td>\n",
       "      <td>2.500000</td>\n",
       "      <td>0.0</td>\n",
       "      <td>0.0</td>\n",
       "      <td>0.0</td>\n",
       "      <td>0.0</td>\n",
       "    </tr>\n",
       "    <tr>\n",
       "      <th>6</th>\n",
       "      <td>NaN</td>\n",
       "      <td>NaN</td>\n",
       "      <td>NaN</td>\n",
       "      <td>NaN</td>\n",
       "      <td>NaN</td>\n",
       "      <td>NaN</td>\n",
       "      <td>NaN</td>\n",
       "      <td>NaN</td>\n",
       "      <td>NaN</td>\n",
       "      <td>NaN</td>\n",
       "      <td>NaN</td>\n",
       "    </tr>\n",
       "    <tr>\n",
       "      <th>7</th>\n",
       "      <td>NaN</td>\n",
       "      <td>NaN</td>\n",
       "      <td>NaN</td>\n",
       "      <td>NaN</td>\n",
       "      <td>NaN</td>\n",
       "      <td>NaN</td>\n",
       "      <td>NaN</td>\n",
       "      <td>NaN</td>\n",
       "      <td>NaN</td>\n",
       "      <td>NaN</td>\n",
       "      <td>NaN</td>\n",
       "    </tr>\n",
       "    <tr>\n",
       "      <th>8</th>\n",
       "      <td>NaN</td>\n",
       "      <td>NaN</td>\n",
       "      <td>NaN</td>\n",
       "      <td>NaN</td>\n",
       "      <td>NaN</td>\n",
       "      <td>NaN</td>\n",
       "      <td>NaN</td>\n",
       "      <td>NaN</td>\n",
       "      <td>NaN</td>\n",
       "      <td>NaN</td>\n",
       "      <td>NaN</td>\n",
       "    </tr>\n",
       "    <tr>\n",
       "      <th>9</th>\n",
       "      <td>128.0</td>\n",
       "      <td>128.500000</td>\n",
       "      <td>125.500000</td>\n",
       "      <td>9.500000</td>\n",
       "      <td>6.5</td>\n",
       "      <td>39.000000</td>\n",
       "      <td>8.000000</td>\n",
       "      <td>0.0</td>\n",
       "      <td>0.0</td>\n",
       "      <td>0.0</td>\n",
       "      <td>0.0</td>\n",
       "    </tr>\n",
       "  </tbody>\n",
       "</table>\n",
       "</div>"
      ],
      "text/plain": [
       "    V001        V002        V003       V055  V056       V057       V065  \\\n",
       "0    NaN         NaN         NaN        NaN   NaN        NaN        NaN   \n",
       "1  265.0  265.333333  258.666667  17.666667  19.0  87.666667  22.666667   \n",
       "2   66.0   65.500000   46.000000   3.500000   1.5   9.500000   5.500000   \n",
       "3    NaN         NaN         NaN        NaN   NaN        NaN        NaN   \n",
       "4    NaN         NaN         NaN        NaN   NaN        NaN        NaN   \n",
       "5  149.0  149.000000  140.500000  11.500000   9.5  49.500000   2.500000   \n",
       "6    NaN         NaN         NaN        NaN   NaN        NaN        NaN   \n",
       "7    NaN         NaN         NaN        NaN   NaN        NaN        NaN   \n",
       "8    NaN         NaN         NaN        NaN   NaN        NaN        NaN   \n",
       "9  128.0  128.500000  125.500000   9.500000   6.5  39.000000   8.000000   \n",
       "\n",
       "   Pontos_de_onibus  Estacao_de_metro  Estacao_de_trem  Terminal_de_onibus  \n",
       "0               NaN               NaN              NaN                 NaN  \n",
       "1              28.0               1.0              1.0                 0.0  \n",
       "2               3.0               0.0              1.0                 0.0  \n",
       "3               NaN               NaN              NaN                 NaN  \n",
       "4               NaN               NaN              NaN                 NaN  \n",
       "5               0.0               0.0              0.0                 0.0  \n",
       "6               NaN               NaN              NaN                 NaN  \n",
       "7               NaN               NaN              NaN                 NaN  \n",
       "8               NaN               NaN              NaN                 NaN  \n",
       "9               0.0               0.0              0.0                 0.0  "
      ]
     },
     "execution_count": 42,
     "metadata": {},
     "output_type": "execute_result"
    }
   ],
   "source": [
    "X_static"
   ]
  },
  {
   "cell_type": "code",
   "execution_count": null,
   "id": "27a0499f",
   "metadata": {},
   "outputs": [],
   "source": []
  },
  {
   "cell_type": "code",
   "execution_count": null,
   "id": "b6a8102e",
   "metadata": {},
   "outputs": [],
   "source": []
  },
  {
   "cell_type": "code",
   "execution_count": null,
   "id": "de974f11",
   "metadata": {},
   "outputs": [],
   "source": [
    "#list_vert_ind = list(range(0,len(ch.city_vert_list)))\n",
    "#ch.city_vert_list\n",
    "for i in range(0,20):\n",
    "    teste = ch.polygon_features_from_PALayer_vertex(layer=0, vert_ind=i, feature='V001')\n",
    "    print(teste)"
   ]
  },
  {
   "cell_type": "code",
   "execution_count": null,
   "id": "cd46b1fe",
   "metadata": {},
   "outputs": [],
   "source": []
  },
  {
   "cell_type": "code",
   "execution_count": null,
   "id": "9a142c2a",
   "metadata": {},
   "outputs": [],
   "source": [
    "teste_get_dados()"
   ]
  },
  {
   "cell_type": "code",
   "execution_count": null,
   "id": "43d0c9cf",
   "metadata": {},
   "outputs": [],
   "source": [
    "list_vert_ind = list(range(0,len(ch.city_vert_list)))\n",
    "\n",
    "for vert_ind in list_vert_ind:\n",
    "        feature_vec = pd.Series(dtype=float)\n",
    "        query_coords=ch.city_vert_list[vert_ind]\n",
    "\n",
    "        transporte_indices = ['Pontos_de_onibus','Estacao_de_metro', 'Estacao_de_trem', 'Terminal_de_onibus']\n",
    "        transporte_list = pd.Series([0.0]*len(transporte_indices), index = transporte_indices)\n",
    "        transporte_list['Pontos_de_onibus'] = len(ch.query_point_in_PBLayer(0,query_coords[0],query_coords[1],layer_pontodeonibus,0.2))\n",
    "        transporte_list['Estacao_de_metro'] = len(ch.query_point_in_PBLayer(1,query_coords[0],query_coords[1],layer_estacaodemetro,0.2))\n",
    "        transporte_list['Estacao_de_trem'] = len(ch.query_point_in_PBLayer(2,query_coords[0],query_coords[1],layer_estacaodetrem,0.2))\n",
    "        transporte_list['Terminal_de_onibus'] = len(ch.query_point_in_PBLayer(3,query_coords[0],query_coords[1],layer_terminaldeonibus,0.2))\n",
    "\n",
    "feature_vec = pd.concat([feature_vec, transporte_list])\n",
    "feature_vec"
   ]
  },
  {
   "cell_type": "code",
   "execution_count": null,
   "id": "eb69573e",
   "metadata": {},
   "outputs": [],
   "source": []
  },
  {
   "cell_type": "code",
   "execution_count": null,
   "id": "0575f82a",
   "metadata": {},
   "outputs": [],
   "source": []
  },
  {
   "cell_type": "code",
   "execution_count": 127,
   "id": "81d79c31",
   "metadata": {},
   "outputs": [
    {
     "data": {
      "text/plain": [
       "121542"
      ]
     },
     "execution_count": 127,
     "metadata": {},
     "output_type": "execute_result"
    }
   ],
   "source": [
    "G.number_of_nodes()"
   ]
  },
  {
   "cell_type": "code",
   "execution_count": 128,
   "id": "e5527df8",
   "metadata": {},
   "outputs": [
    {
     "data": {
      "text/plain": [
       "177929"
      ]
     },
     "execution_count": 128,
     "metadata": {},
     "output_type": "execute_result"
    }
   ],
   "source": [
    "G.number_of_edges()"
   ]
  },
  {
   "cell_type": "code",
   "execution_count": 129,
   "id": "19bb6932",
   "metadata": {},
   "outputs": [
    {
     "data": {
      "text/plain": [
       "121542"
      ]
     },
     "execution_count": 129,
     "metadata": {},
     "output_type": "execute_result"
    }
   ],
   "source": [
    "len(G)"
   ]
  },
  {
   "cell_type": "code",
   "execution_count": 134,
   "id": "42e34770",
   "metadata": {},
   "outputs": [],
   "source": [
    "from networkx.algorithms import community\n",
    "\n",
    "def get_communities(G):\n",
    "    communities_generator = list(community.asyn_fluidc(G,4))\n",
    "    communities_list = []\n",
    "    for i in communities_generator:\n",
    "        communities_list.append(list(i))\n",
    "    return communities_list\n",
    "\n",
    "communities = get_communities(G)"
   ]
  },
  {
   "cell_type": "code",
   "execution_count": 135,
   "id": "b0aecbf7",
   "metadata": {},
   "outputs": [
    {
     "data": {
      "text/plain": [
       "4"
      ]
     },
     "execution_count": 135,
     "metadata": {},
     "output_type": "execute_result"
    }
   ],
   "source": [
    "len(communities)"
   ]
  },
  {
   "cell_type": "code",
   "execution_count": 136,
   "id": "23d4f476",
   "metadata": {},
   "outputs": [
    {
     "data": {
      "text/plain": [
       "72577"
      ]
     },
     "execution_count": 136,
     "metadata": {},
     "output_type": "execute_result"
    }
   ],
   "source": [
    "len(communities[0])"
   ]
  },
  {
   "cell_type": "code",
   "execution_count": 137,
   "id": "7c10ce27",
   "metadata": {},
   "outputs": [
    {
     "data": {
      "text/plain": [
       "29544"
      ]
     },
     "execution_count": 137,
     "metadata": {},
     "output_type": "execute_result"
    }
   ],
   "source": [
    "len(communities[1])"
   ]
  },
  {
   "cell_type": "code",
   "execution_count": 139,
   "id": "c5d65ff6",
   "metadata": {},
   "outputs": [
    {
     "data": {
      "text/plain": [
       "14284"
      ]
     },
     "execution_count": 139,
     "metadata": {},
     "output_type": "execute_result"
    }
   ],
   "source": [
    "len(communities[2])"
   ]
  },
  {
   "cell_type": "code",
   "execution_count": 140,
   "id": "40bdb909",
   "metadata": {},
   "outputs": [
    {
     "data": {
      "text/plain": [
       "4964"
      ]
     },
     "execution_count": 140,
     "metadata": {},
     "output_type": "execute_result"
    }
   ],
   "source": [
    "len(communities[3])"
   ]
  },
  {
   "cell_type": "code",
   "execution_count": null,
   "id": "1131cd59",
   "metadata": {},
   "outputs": [],
   "source": []
  }
 ],
 "metadata": {
  "kernelspec": {
   "display_name": "Python 3 (ipykernel)",
   "language": "python",
   "name": "python3"
  },
  "language_info": {
   "codemirror_mode": {
    "name": "ipython",
    "version": 3
   },
   "file_extension": ".py",
   "mimetype": "text/x-python",
   "name": "python",
   "nbconvert_exporter": "python",
   "pygments_lexer": "ipython3",
   "version": "3.10.9"
  },
  "varInspector": {
   "cols": {
    "lenName": 16,
    "lenType": 16,
    "lenVar": 40
   },
   "kernels_config": {
    "python": {
     "delete_cmd_postfix": "",
     "delete_cmd_prefix": "del ",
     "library": "var_list.py",
     "varRefreshCmd": "print(var_dic_list())"
    },
    "r": {
     "delete_cmd_postfix": ") ",
     "delete_cmd_prefix": "rm(",
     "library": "var_list.r",
     "varRefreshCmd": "cat(var_dic_list()) "
    }
   },
   "types_to_exclude": [
    "module",
    "function",
    "builtin_function_or_method",
    "instance",
    "_Feature"
   ],
   "window_display": false
  }
 },
 "nbformat": 4,
 "nbformat_minor": 5
}
