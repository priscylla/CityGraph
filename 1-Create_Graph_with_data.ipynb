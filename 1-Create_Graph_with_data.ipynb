{
 "cells": [
  {
   "cell_type": "code",
   "execution_count": 1,
   "id": "4b61a7ee",
   "metadata": {},
   "outputs": [],
   "source": [
    "import os\n",
    "import CityHub\n",
    "import geopandas as gpd\n",
    "import pandas as pd\n",
    "import numpy as np\n",
    "\n",
    "import math\n",
    "from statistics import mean"
   ]
  },
  {
   "cell_type": "markdown",
   "id": "9d73f6a0",
   "metadata": {},
   "source": [
    "# Create CityHub and saving graph without data"
   ]
  },
  {
   "cell_type": "code",
   "execution_count": null,
   "id": "54660473",
   "metadata": {},
   "outputs": [],
   "source": [
    "ch = CityHub.CityHub('São Paulo, São Paulo, Brazil')"
   ]
  },
  {
   "cell_type": "code",
   "execution_count": null,
   "id": "4f15fd24",
   "metadata": {},
   "outputs": [],
   "source": [
    "ch.save_preprocessed_CityHub('data/sp-graph-without-data.bin')"
   ]
  },
  {
   "cell_type": "code",
   "execution_count": 2,
   "id": "72c3077c",
   "metadata": {},
   "outputs": [],
   "source": [
    "# carrega o citygraph preprocessado\n",
    "ch=CityHub.load_preprocessed_CityHub('data/sp-graph-without-data.bin')"
   ]
  },
  {
   "cell_type": "markdown",
   "id": "590f26fd",
   "metadata": {},
   "source": [
    "# Adding IBGE data"
   ]
  },
  {
   "cell_type": "markdown",
   "id": "4890ff20",
   "metadata": {},
   "source": [
    "Shapefile of the census sectors"
   ]
  },
  {
   "cell_type": "code",
   "execution_count": 3,
   "id": "1bdc47e2",
   "metadata": {},
   "outputs": [
    {
     "name": "stdout",
     "output_type": "stream",
     "text": [
      "Refining mesh...\n"
     ]
    },
    {
     "data": {
      "text/plain": [
       "0"
      ]
     },
     "execution_count": 3,
     "metadata": {},
     "output_type": "execute_result"
    }
   ],
   "source": [
    "ch.load_PALayer_mesh('data/sp/sp_setores_censitarios/35SEE250GC_SIR.shp','CD_GEOCODI',40.0)"
   ]
  },
  {
   "cell_type": "markdown",
   "id": "c35405fe",
   "metadata": {},
   "source": [
    "File with demographic data"
   ]
  },
  {
   "cell_type": "code",
   "execution_count": 4,
   "id": "4846d826",
   "metadata": {},
   "outputs": [
    {
     "data": {
      "text/plain": [
       "True"
      ]
     },
     "execution_count": 4,
     "metadata": {},
     "output_type": "execute_result"
    }
   ],
   "source": [
    "ch.load_PALayers_csv_data(0,'data/sp/census_data/data_preprocess.csv','Cod_setor')"
   ]
  },
  {
   "cell_type": "markdown",
   "id": "96df9cca",
   "metadata": {},
   "source": [
    "# Adding Urban infrastructure data"
   ]
  },
  {
   "cell_type": "markdown",
   "id": "3720b2a8",
   "metadata": {},
   "source": [
    "Bus stops"
   ]
  },
  {
   "cell_type": "code",
   "execution_count": 5,
   "id": "80c59068",
   "metadata": {},
   "outputs": [
    {
     "data": {
      "text/plain": [
       "0"
      ]
     },
     "execution_count": 5,
     "metadata": {},
     "output_type": "execute_result"
    }
   ],
   "source": [
    "ch.load_PBLayer('data/sp/infraestrutura/SAD69-96_SHP_pontoonibus/SAD69-96_SHP_pontoonibus.shp',23,'K',True,-45.0,-45.0)"
   ]
  },
  {
   "cell_type": "markdown",
   "id": "708e5599",
   "metadata": {},
   "source": [
    "Subway stations"
   ]
  },
  {
   "cell_type": "code",
   "execution_count": 6,
   "id": "9962e930",
   "metadata": {},
   "outputs": [
    {
     "data": {
      "text/plain": [
       "1"
      ]
     },
     "execution_count": 6,
     "metadata": {},
     "output_type": "execute_result"
    }
   ],
   "source": [
    "ch.load_PBLayer('data/sp/infraestrutura/SAD69-96_SHP_estacaometro/SAD69-96_SHP_estacaometro_point.shp',23,'K')"
   ]
  },
  {
   "cell_type": "markdown",
   "id": "99933e49",
   "metadata": {},
   "source": [
    "Train stations"
   ]
  },
  {
   "cell_type": "code",
   "execution_count": 7,
   "id": "c3218ce1",
   "metadata": {},
   "outputs": [
    {
     "data": {
      "text/plain": [
       "2"
      ]
     },
     "execution_count": 7,
     "metadata": {},
     "output_type": "execute_result"
    }
   ],
   "source": [
    "ch.load_PBLayer('data/sp/infraestrutura/SAD69-96_SHP_estacaotrem/SAD69-96_SHP_estacaotrem.shp',23,'K')"
   ]
  },
  {
   "cell_type": "markdown",
   "id": "60c24cc2",
   "metadata": {},
   "source": [
    "Bus terminus"
   ]
  },
  {
   "cell_type": "code",
   "execution_count": 8,
   "id": "ed7ebe00",
   "metadata": {},
   "outputs": [
    {
     "data": {
      "text/plain": [
       "3"
      ]
     },
     "execution_count": 8,
     "metadata": {},
     "output_type": "execute_result"
    }
   ],
   "source": [
    "ch.load_PBLayer('data/sp/infraestrutura/terminal_onibus/sad6996_terminal_onibus.shp',23,'K')"
   ]
  },
  {
   "cell_type": "markdown",
   "id": "bddd6a5f",
   "metadata": {},
   "source": [
    "# Adding Crime data"
   ]
  },
  {
   "cell_type": "code",
   "execution_count": 9,
   "id": "a41b7cbe",
   "metadata": {},
   "outputs": [
    {
     "data": {
      "text/plain": [
       "4"
      ]
     },
     "execution_count": 9,
     "metadata": {},
     "output_type": "execute_result"
    }
   ],
   "source": [
    "ch.load_PBLayer_csv_data('data/sp/crime_data/crimes.csv','latitude','longitude',project_to_corners = True)"
   ]
  },
  {
   "cell_type": "markdown",
   "id": "aeed8fb1",
   "metadata": {},
   "source": [
    "# Adding Weather data"
   ]
  },
  {
   "cell_type": "code",
   "execution_count": 10,
   "id": "e2731a12",
   "metadata": {},
   "outputs": [
    {
     "data": {
      "text/plain": [
       "True"
      ]
     },
     "execution_count": 10,
     "metadata": {},
     "output_type": "execute_result"
    }
   ],
   "source": [
    "### Sparse-Measurement (SM) Layer ###\n",
    "\n",
    "# Load sparse measurements related to weather data measured at 3 weather stations\n",
    "ch.load_SMLayers_known_measurements('Barueri','data/sp/meteorological_data/Barueri.csv')\n",
    "ch.load_SMLayers_known_measurements('Interlagos','data/sp/meteorological_data/Interlagos.csv')\n",
    "ch.load_SMLayers_known_measurements('Mirante','data/sp/meteorological_data/Mirante.csv')\n",
    "\n",
    "# Load the temporal aggregation functions and measurement points infos\n",
    "ch.load_SMLayers_temp_agg_funcs('data/sp/meteorological_data/Sparse_temp_agg_funcs.csv')\n",
    "ch.load_SMLayers_measurements_points_info('data/sp/meteorological_data/Stations_info.csv')"
   ]
  },
  {
   "cell_type": "markdown",
   "id": "485ad84c",
   "metadata": {},
   "source": [
    "Checking if the 3 seasons have been added:"
   ]
  },
  {
   "cell_type": "code",
   "execution_count": 11,
   "id": "c4468973",
   "metadata": {},
   "outputs": [
    {
     "data": {
      "text/plain": [
       "3"
      ]
     },
     "execution_count": 11,
     "metadata": {},
     "output_type": "execute_result"
    }
   ],
   "source": [
    "len(ch.SMLayers_known_measurements)"
   ]
  },
  {
   "cell_type": "markdown",
   "id": "cc1027e9",
   "metadata": {},
   "source": [
    "# Saving the graph with data"
   ]
  },
  {
   "cell_type": "code",
   "execution_count": 12,
   "id": "80d14170",
   "metadata": {},
   "outputs": [],
   "source": [
    "ch.save_preprocessed_CityHub('data/sp-6-abr-23.bin')"
   ]
  }
 ],
 "metadata": {
  "kernelspec": {
   "display_name": "Python 3 (ipykernel)",
   "language": "python",
   "name": "python3"
  },
  "language_info": {
   "codemirror_mode": {
    "name": "ipython",
    "version": 3
   },
   "file_extension": ".py",
   "mimetype": "text/x-python",
   "name": "python",
   "nbconvert_exporter": "python",
   "pygments_lexer": "ipython3",
   "version": "3.10.9"
  }
 },
 "nbformat": 4,
 "nbformat_minor": 5
}
