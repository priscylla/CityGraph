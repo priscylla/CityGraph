{
 "cells": [
  {
   "cell_type": "code",
   "execution_count": 1,
   "id": "61877306",
   "metadata": {},
   "outputs": [],
   "source": [
    "import os\n",
    "import CityHub\n",
    "#import folium\n",
    "import geopandas as gpd\n",
    "import pandas as pd\n",
    "\n",
    "import math\n",
    "from statistics import mean"
   ]
  },
  {
   "cell_type": "code",
   "execution_count": 2,
   "id": "82bd30bc",
   "metadata": {},
   "outputs": [
    {
     "name": "stdout",
     "output_type": "stream",
     "text": [
      "Loading file...\n",
      "Preprocessing city mesh...\n",
      "Refining mesh...\n"
     ]
    }
   ],
   "source": [
    "ch = CityHub.CityHub('São Paulo, São Paulo, Brazil')"
   ]
  },
  {
   "cell_type": "code",
   "execution_count": 3,
   "id": "051997cb",
   "metadata": {},
   "outputs": [],
   "source": [
    "G = ch.city_street_graph"
   ]
  },
  {
   "cell_type": "code",
   "execution_count": 4,
   "id": "9cf91422",
   "metadata": {},
   "outputs": [
    {
     "name": "stdout",
     "output_type": "stream",
     "text": [
      "Refining mesh...\n"
     ]
    },
    {
     "data": {
      "text/plain": [
       "0"
      ]
     },
     "execution_count": 4,
     "metadata": {},
     "output_type": "execute_result"
    }
   ],
   "source": [
    "ch.load_PALayer_mesh('data/sp/sp_setores_censitarios/35SEE250GC_SIR.shp','CD_GEOCODI',40.0)"
   ]
  },
  {
   "cell_type": "code",
   "execution_count": 5,
   "id": "5917ac44",
   "metadata": {},
   "outputs": [
    {
     "data": {
      "text/plain": [
       "True"
      ]
     },
     "execution_count": 5,
     "metadata": {},
     "output_type": "execute_result"
    }
   ],
   "source": [
    "ch.load_PALayers_csv_data(0,'data/sp/census_data/data_preprocess.csv','Cod_setor')"
   ]
  },
  {
   "cell_type": "code",
   "execution_count": 6,
   "id": "89eeceaf",
   "metadata": {},
   "outputs": [
    {
     "data": {
      "text/plain": [
       "0"
      ]
     },
     "execution_count": 6,
     "metadata": {},
     "output_type": "execute_result"
    }
   ],
   "source": [
    "ch.load_PBLayer('data/sp/infraestrutura/SAD69-96_SHP_pontoonibus/SAD69-96_SHP_pontoonibus.shp',23,'K',True,-45.0,-45.0)"
   ]
  },
  {
   "cell_type": "code",
   "execution_count": 7,
   "id": "0fa6c6af",
   "metadata": {},
   "outputs": [
    {
     "data": {
      "text/plain": [
       "1"
      ]
     },
     "execution_count": 7,
     "metadata": {},
     "output_type": "execute_result"
    }
   ],
   "source": [
    "ch.load_PBLayer('data/sp/infraestrutura/SAD69-96_SHP_estacaometro/SAD69-96_SHP_estacaometro_point.shp',23,'K')"
   ]
  },
  {
   "cell_type": "code",
   "execution_count": 8,
   "id": "57ce2bfc",
   "metadata": {},
   "outputs": [
    {
     "data": {
      "text/plain": [
       "2"
      ]
     },
     "execution_count": 8,
     "metadata": {},
     "output_type": "execute_result"
    }
   ],
   "source": [
    "ch.load_PBLayer('data/sp/infraestrutura/SAD69-96_SHP_estacaotrem/SAD69-96_SHP_estacaotrem.shp',23,'K')"
   ]
  },
  {
   "cell_type": "code",
   "execution_count": 9,
   "id": "31eed985",
   "metadata": {},
   "outputs": [
    {
     "data": {
      "text/plain": [
       "3"
      ]
     },
     "execution_count": 9,
     "metadata": {},
     "output_type": "execute_result"
    }
   ],
   "source": [
    "ch.load_PBLayer('data/sp/infraestrutura/terminal_onibus/sad6996_terminal_onibus.shp',23,'K')"
   ]
  },
  {
   "cell_type": "code",
   "execution_count": 10,
   "id": "74080b60",
   "metadata": {},
   "outputs": [
    {
     "data": {
      "text/html": [
       "<div>\n",
       "<style scoped>\n",
       "    .dataframe tbody tr th:only-of-type {\n",
       "        vertical-align: middle;\n",
       "    }\n",
       "\n",
       "    .dataframe tbody tr th {\n",
       "        vertical-align: top;\n",
       "    }\n",
       "\n",
       "    .dataframe thead th {\n",
       "        text-align: right;\n",
       "    }\n",
       "</style>\n",
       "<table border=\"1\" class=\"dataframe\">\n",
       "  <thead>\n",
       "    <tr style=\"text-align: right;\">\n",
       "      <th></th>\n",
       "      <th>vert</th>\n",
       "      <th>geometry</th>\n",
       "    </tr>\n",
       "  </thead>\n",
       "  <tbody>\n",
       "    <tr>\n",
       "      <th>0</th>\n",
       "      <td>0</td>\n",
       "      <td>POINT (-23.56299 -46.70397)</td>\n",
       "    </tr>\n",
       "    <tr>\n",
       "      <th>1</th>\n",
       "      <td>1</td>\n",
       "      <td>POINT (-23.56746 -46.70223)</td>\n",
       "    </tr>\n",
       "    <tr>\n",
       "      <th>2</th>\n",
       "      <td>2</td>\n",
       "      <td>POINT (-23.57296 -46.69923)</td>\n",
       "    </tr>\n",
       "    <tr>\n",
       "      <th>3</th>\n",
       "      <td>3</td>\n",
       "      <td>POINT (-23.57183 -46.70207)</td>\n",
       "    </tr>\n",
       "    <tr>\n",
       "      <th>4</th>\n",
       "      <td>4</td>\n",
       "      <td>POINT (-23.53462 -46.74815)</td>\n",
       "    </tr>\n",
       "    <tr>\n",
       "      <th>...</th>\n",
       "      <td>...</td>\n",
       "      <td>...</td>\n",
       "    </tr>\n",
       "    <tr>\n",
       "      <th>121537</th>\n",
       "      <td>121537</td>\n",
       "      <td>POINT (-23.55463 -46.53176)</td>\n",
       "    </tr>\n",
       "    <tr>\n",
       "      <th>121538</th>\n",
       "      <td>121538</td>\n",
       "      <td>POINT (-23.57349 -46.49451)</td>\n",
       "    </tr>\n",
       "    <tr>\n",
       "      <th>121539</th>\n",
       "      <td>121539</td>\n",
       "      <td>POINT (-23.57281 -46.49286)</td>\n",
       "    </tr>\n",
       "    <tr>\n",
       "      <th>121540</th>\n",
       "      <td>121540</td>\n",
       "      <td>POINT (-23.56551 -46.48308)</td>\n",
       "    </tr>\n",
       "    <tr>\n",
       "      <th>121541</th>\n",
       "      <td>121541</td>\n",
       "      <td>POINT (-23.56556 -46.48295)</td>\n",
       "    </tr>\n",
       "  </tbody>\n",
       "</table>\n",
       "<p>121542 rows × 2 columns</p>\n",
       "</div>"
      ],
      "text/plain": [
       "          vert                     geometry\n",
       "0            0  POINT (-23.56299 -46.70397)\n",
       "1            1  POINT (-23.56746 -46.70223)\n",
       "2            2  POINT (-23.57296 -46.69923)\n",
       "3            3  POINT (-23.57183 -46.70207)\n",
       "4            4  POINT (-23.53462 -46.74815)\n",
       "...        ...                          ...\n",
       "121537  121537  POINT (-23.55463 -46.53176)\n",
       "121538  121538  POINT (-23.57349 -46.49451)\n",
       "121539  121539  POINT (-23.57281 -46.49286)\n",
       "121540  121540  POINT (-23.56551 -46.48308)\n",
       "121541  121541  POINT (-23.56556 -46.48295)\n",
       "\n",
       "[121542 rows x 2 columns]"
      ]
     },
     "execution_count": 10,
     "metadata": {},
     "output_type": "execute_result"
    }
   ],
   "source": [
    "from shapely.geometry import Polygon, Point\n",
    "\n",
    "city_vert_gdf = gpd.GeoDataFrame(list(range(0,len(ch.city_vert_list))),geometry = gpd.points_from_xy(pd.DataFrame(ch.city_vert_list)[0], pd.DataFrame(ch.city_vert_list)[1]))\n",
    "city_vert_gdf.columns = [\"vert\", \"geometry\"]\n",
    "city_vert_gdf"
   ]
  },
  {
   "cell_type": "code",
   "execution_count": 11,
   "id": "c7fdfe8c",
   "metadata": {},
   "outputs": [],
   "source": [
    "def compute_static_feature_vector(vert_ind):\n",
    "\n",
    "    feature_vec = pd.Series(dtype=float)\n",
    "\n",
    "    layer_pontodeonibus = 0\n",
    "    layer_estacaodemetro = 1\n",
    "    layer_estacaodetrem = 2\n",
    "    layer_terminaldeonibus = 3\n",
    "\n",
    "    query_coords=ch.city_vert_list[vert_ind]\n",
    "\n",
    "#       transporte\n",
    "    transporte_indices = ['Pontos_de_onibus','Estacao_de_metro', 'Estacao_de_trem', 'Terminal_de_onibus']\n",
    "    transporte_list = pd.Series([0.0]*len(transporte_indices), index = transporte_indices)\n",
    "    transporte_list['Pontos_de_onibus'] = len(ch.query_point_in_PBLayer(0,query_coords[0],query_coords[1],layer_pontodeonibus,0.2))\n",
    "    transporte_list['Estacao_de_metro'] = len(ch.query_point_in_PBLayer(1,query_coords[0],query_coords[1],layer_estacaodemetro,0.2))\n",
    "    transporte_list['Estacao_de_trem'] = len(ch.query_point_in_PBLayer(2,query_coords[0],query_coords[1],layer_estacaodetrem,0.2))\n",
    "    transporte_list['Terminal_de_onibus'] = len(ch.query_point_in_PBLayer(3,query_coords[0],query_coords[1],layer_terminaldeonibus,0.2))\n",
    "\n",
    "    feature_vec = pd.concat([feature_vec, transporte_list])\n",
    "\n",
    "#       favelas\n",
    "#    favela_indices = ['Favela_proxima']\n",
    "#    favela_list = pd.Series([0.0]*len(favela_indices), index = favela_indices)\n",
    "#    favela_list['Favela_proxima'] = (len(ch.query_point_in_RDLayer(0, query_coords[0],query_coords[1],0.5,True))>0)*1\n",
    "\n",
    "#    feature_vec = pd.concat([feature_vec, favela_list])\n",
    "\n",
    "    return feature_vec"
   ]
  },
  {
   "cell_type": "code",
   "execution_count": 12,
   "id": "3ec7fb58",
   "metadata": {},
   "outputs": [],
   "source": [
    "X_static = city_vert_gdf[\"vert\"].apply(lambda vert: compute_static_feature_vector(vert))"
   ]
  },
  {
   "cell_type": "code",
   "execution_count": 13,
   "id": "53c38d38",
   "metadata": {},
   "outputs": [
    {
     "data": {
      "text/html": [
       "<div>\n",
       "<style scoped>\n",
       "    .dataframe tbody tr th:only-of-type {\n",
       "        vertical-align: middle;\n",
       "    }\n",
       "\n",
       "    .dataframe tbody tr th {\n",
       "        vertical-align: top;\n",
       "    }\n",
       "\n",
       "    .dataframe thead th {\n",
       "        text-align: right;\n",
       "    }\n",
       "</style>\n",
       "<table border=\"1\" class=\"dataframe\">\n",
       "  <thead>\n",
       "    <tr style=\"text-align: right;\">\n",
       "      <th></th>\n",
       "      <th>Pontos_de_onibus</th>\n",
       "      <th>Estacao_de_metro</th>\n",
       "      <th>Estacao_de_trem</th>\n",
       "      <th>Terminal_de_onibus</th>\n",
       "    </tr>\n",
       "  </thead>\n",
       "  <tbody>\n",
       "    <tr>\n",
       "      <th>0</th>\n",
       "      <td>0.0</td>\n",
       "      <td>1.0</td>\n",
       "      <td>3.0</td>\n",
       "      <td>1.0</td>\n",
       "    </tr>\n",
       "    <tr>\n",
       "      <th>1</th>\n",
       "      <td>0.0</td>\n",
       "      <td>3.0</td>\n",
       "      <td>3.0</td>\n",
       "      <td>1.0</td>\n",
       "    </tr>\n",
       "    <tr>\n",
       "      <th>2</th>\n",
       "      <td>0.0</td>\n",
       "      <td>3.0</td>\n",
       "      <td>3.0</td>\n",
       "      <td>1.0</td>\n",
       "    </tr>\n",
       "    <tr>\n",
       "      <th>3</th>\n",
       "      <td>0.0</td>\n",
       "      <td>2.0</td>\n",
       "      <td>4.0</td>\n",
       "      <td>1.0</td>\n",
       "    </tr>\n",
       "    <tr>\n",
       "      <th>4</th>\n",
       "      <td>0.0</td>\n",
       "      <td>0.0</td>\n",
       "      <td>3.0</td>\n",
       "      <td>0.0</td>\n",
       "    </tr>\n",
       "    <tr>\n",
       "      <th>...</th>\n",
       "      <td>...</td>\n",
       "      <td>...</td>\n",
       "      <td>...</td>\n",
       "      <td>...</td>\n",
       "    </tr>\n",
       "    <tr>\n",
       "      <th>121537</th>\n",
       "      <td>0.0</td>\n",
       "      <td>0.0</td>\n",
       "      <td>0.0</td>\n",
       "      <td>1.0</td>\n",
       "    </tr>\n",
       "    <tr>\n",
       "      <th>121538</th>\n",
       "      <td>0.0</td>\n",
       "      <td>0.0</td>\n",
       "      <td>0.0</td>\n",
       "      <td>0.0</td>\n",
       "    </tr>\n",
       "    <tr>\n",
       "      <th>121539</th>\n",
       "      <td>0.0</td>\n",
       "      <td>0.0</td>\n",
       "      <td>0.0</td>\n",
       "      <td>0.0</td>\n",
       "    </tr>\n",
       "    <tr>\n",
       "      <th>121540</th>\n",
       "      <td>0.0</td>\n",
       "      <td>0.0</td>\n",
       "      <td>0.0</td>\n",
       "      <td>0.0</td>\n",
       "    </tr>\n",
       "    <tr>\n",
       "      <th>121541</th>\n",
       "      <td>0.0</td>\n",
       "      <td>0.0</td>\n",
       "      <td>0.0</td>\n",
       "      <td>0.0</td>\n",
       "    </tr>\n",
       "  </tbody>\n",
       "</table>\n",
       "<p>121542 rows × 4 columns</p>\n",
       "</div>"
      ],
      "text/plain": [
       "        Pontos_de_onibus  Estacao_de_metro  Estacao_de_trem  \\\n",
       "0                    0.0               1.0              3.0   \n",
       "1                    0.0               3.0              3.0   \n",
       "2                    0.0               3.0              3.0   \n",
       "3                    0.0               2.0              4.0   \n",
       "4                    0.0               0.0              3.0   \n",
       "...                  ...               ...              ...   \n",
       "121537               0.0               0.0              0.0   \n",
       "121538               0.0               0.0              0.0   \n",
       "121539               0.0               0.0              0.0   \n",
       "121540               0.0               0.0              0.0   \n",
       "121541               0.0               0.0              0.0   \n",
       "\n",
       "        Terminal_de_onibus  \n",
       "0                      1.0  \n",
       "1                      1.0  \n",
       "2                      1.0  \n",
       "3                      1.0  \n",
       "4                      0.0  \n",
       "...                    ...  \n",
       "121537                 1.0  \n",
       "121538                 0.0  \n",
       "121539                 0.0  \n",
       "121540                 0.0  \n",
       "121541                 0.0  \n",
       "\n",
       "[121542 rows x 4 columns]"
      ]
     },
     "execution_count": 13,
     "metadata": {},
     "output_type": "execute_result"
    }
   ],
   "source": [
    "X_static"
   ]
  },
  {
   "cell_type": "code",
   "execution_count": 45,
   "id": "ba2c7b91",
   "metadata": {},
   "outputs": [
    {
     "data": {
      "text/plain": [
       "vert                                      0\n",
       "geometry    POINT (-23.5629908 -46.7039651)\n",
       "Name: 0, dtype: object"
      ]
     },
     "execution_count": 45,
     "metadata": {},
     "output_type": "execute_result"
    }
   ],
   "source": [
    "city_vert_gdf.iloc[0]"
   ]
  },
  {
   "cell_type": "code",
   "execution_count": 47,
   "id": "13681e5b",
   "metadata": {},
   "outputs": [
    {
     "data": {
      "text/plain": [
       "(-23.5629908, -46.7039651)"
      ]
     },
     "execution_count": 47,
     "metadata": {},
     "output_type": "execute_result"
    }
   ],
   "source": [
    "ch.city_vert_list[0]"
   ]
  },
  {
   "cell_type": "code",
   "execution_count": 60,
   "id": "f4403581",
   "metadata": {},
   "outputs": [
    {
     "data": {
      "text/plain": [
       "[]"
      ]
     },
     "execution_count": 60,
     "metadata": {},
     "output_type": "execute_result"
    }
   ],
   "source": [
    "ch.query_point_in_PBLayer(0,ch.city_vert_list[0][0],ch.city_vert_list[0][1],0)"
   ]
  },
  {
   "cell_type": "code",
   "execution_count": 61,
   "id": "59f9186b",
   "metadata": {},
   "outputs": [
    {
     "data": {
      "text/plain": [
       "[(-23.56677543060003, -46.701248656863875)]"
      ]
     },
     "execution_count": 61,
     "metadata": {},
     "output_type": "execute_result"
    }
   ],
   "source": [
    "ch.query_point_in_PBLayer(1,ch.city_vert_list[0][0],ch.city_vert_list[0][1],1)"
   ]
  },
  {
   "cell_type": "code",
   "execution_count": 62,
   "id": "a502c864",
   "metadata": {},
   "outputs": [
    {
     "data": {
      "text/plain": [
       "[(-23.56605954681605, -46.70259752571509),\n",
       " (-23.55723463242395, -46.71133035159957),\n",
       " (-23.573203731944503, -46.69834557655026)]"
      ]
     },
     "execution_count": 62,
     "metadata": {},
     "output_type": "execute_result"
    }
   ],
   "source": [
    "ch.query_point_in_PBLayer(2,ch.city_vert_list[0][0],ch.city_vert_list[0][1],2)"
   ]
  },
  {
   "cell_type": "code",
   "execution_count": 63,
   "id": "9359a55a",
   "metadata": {},
   "outputs": [
    {
     "data": {
      "text/plain": [
       "[(-23.56586157048122, -46.70130560104628)]"
      ]
     },
     "execution_count": 63,
     "metadata": {},
     "output_type": "execute_result"
    }
   ],
   "source": [
    "ch.query_point_in_PBLayer(3,ch.city_vert_list[0][0],ch.city_vert_list[0][1],3)"
   ]
  },
  {
   "cell_type": "code",
   "execution_count": 51,
   "id": "2f67cf49",
   "metadata": {},
   "outputs": [
    {
     "data": {
      "text/plain": [
       "0              0\n",
       "1             -1\n",
       "2             -2\n",
       "3             -3\n",
       "4             -4\n",
       "           ...  \n",
       "121537   -121537\n",
       "121538   -121538\n",
       "121539   -121539\n",
       "121540   -121540\n",
       "121541   -121541\n",
       "Name: vert, Length: 121542, dtype: int64"
      ]
     },
     "execution_count": 51,
     "metadata": {},
     "output_type": "execute_result"
    }
   ],
   "source": [
    "city_vert_gdf[\"vert\"].apply(lambda vert: vert * -1)"
   ]
  },
  {
   "cell_type": "code",
   "execution_count": null,
   "id": "a43ba7ee",
   "metadata": {},
   "outputs": [],
   "source": []
  }
 ],
 "metadata": {
  "kernelspec": {
   "display_name": "Python 3 (ipykernel)",
   "language": "python",
   "name": "python3"
  },
  "language_info": {
   "codemirror_mode": {
    "name": "ipython",
    "version": 3
   },
   "file_extension": ".py",
   "mimetype": "text/x-python",
   "name": "python",
   "nbconvert_exporter": "python",
   "pygments_lexer": "ipython3",
   "version": "3.10.9"
  }
 },
 "nbformat": 4,
 "nbformat_minor": 5
}
