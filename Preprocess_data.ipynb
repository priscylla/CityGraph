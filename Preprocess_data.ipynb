{
 "cells": [
  {
   "cell_type": "code",
   "execution_count": 4,
   "id": "4fdc44a7",
   "metadata": {},
   "outputs": [],
   "source": [
    "import pandas as pd\n",
    "import numpy as np"
   ]
  },
  {
   "cell_type": "markdown",
   "id": "9051a96f",
   "metadata": {},
   "source": [
    "# Census data"
   ]
  },
  {
   "cell_type": "code",
   "execution_count": 5,
   "id": "5a9cb4d2",
   "metadata": {},
   "outputs": [],
   "source": [
    "data_census = pd.read_csv('data/sp/census_data/sp_dados_demograficos_setores2010.csv')\n",
    "data_census=data_census.replace('X',np.NaN)"
   ]
  },
  {
   "cell_type": "code",
   "execution_count": 6,
   "id": "be83ed32",
   "metadata": {},
   "outputs": [],
   "source": [
    "data_census.to_csv('data/sp/census_data/data_preprocess.csv')"
   ]
  },
  {
   "cell_type": "markdown",
   "id": "982775b7",
   "metadata": {},
   "source": [
    "# Weather data"
   ]
  },
  {
   "cell_type": "code",
   "execution_count": 10,
   "id": "8149c4ab",
   "metadata": {},
   "outputs": [],
   "source": [
    "station1 = 'data/sp/meteorological_data/Barueri.csv'\n",
    "station2 = 'data/sp/meteorological_data/Mirante.csv'"
   ]
  },
  {
   "cell_type": "code",
   "execution_count": 11,
   "id": "92949347",
   "metadata": {},
   "outputs": [
    {
     "data": {
      "text/html": [
       "<div>\n",
       "<style scoped>\n",
       "    .dataframe tbody tr th:only-of-type {\n",
       "        vertical-align: middle;\n",
       "    }\n",
       "\n",
       "    .dataframe tbody tr th {\n",
       "        vertical-align: top;\n",
       "    }\n",
       "\n",
       "    .dataframe thead th {\n",
       "        text-align: right;\n",
       "    }\n",
       "</style>\n",
       "<table border=\"1\" class=\"dataframe\">\n",
       "  <thead>\n",
       "    <tr style=\"text-align: right;\">\n",
       "      <th></th>\n",
       "      <th>Data</th>\n",
       "      <th>Precipitacao_Total</th>\n",
       "      <th>Temperatura_Maxima</th>\n",
       "      <th>Temperatura_Minima</th>\n",
       "    </tr>\n",
       "  </thead>\n",
       "  <tbody>\n",
       "    <tr>\n",
       "      <th>0</th>\n",
       "      <td>2011-03-29 00:00:00</td>\n",
       "      <td>0.0</td>\n",
       "      <td>24.3</td>\n",
       "      <td>22.9</td>\n",
       "    </tr>\n",
       "    <tr>\n",
       "      <th>1</th>\n",
       "      <td>2011-03-29 01:00:00</td>\n",
       "      <td>0.0</td>\n",
       "      <td>23.0</td>\n",
       "      <td>22.7</td>\n",
       "    </tr>\n",
       "    <tr>\n",
       "      <th>2</th>\n",
       "      <td>2011-03-29 02:00:00</td>\n",
       "      <td>0.0</td>\n",
       "      <td>22.9</td>\n",
       "      <td>22.4</td>\n",
       "    </tr>\n",
       "    <tr>\n",
       "      <th>3</th>\n",
       "      <td>2011-03-29 03:00:00</td>\n",
       "      <td>0.0</td>\n",
       "      <td>22.5</td>\n",
       "      <td>22.3</td>\n",
       "    </tr>\n",
       "    <tr>\n",
       "      <th>4</th>\n",
       "      <td>2011-03-29 04:00:00</td>\n",
       "      <td>0.0</td>\n",
       "      <td>22.3</td>\n",
       "      <td>21.8</td>\n",
       "    </tr>\n",
       "    <tr>\n",
       "      <th>...</th>\n",
       "      <td>...</td>\n",
       "      <td>...</td>\n",
       "      <td>...</td>\n",
       "      <td>...</td>\n",
       "    </tr>\n",
       "    <tr>\n",
       "      <th>90667</th>\n",
       "      <td>2021-07-31 19:00:00</td>\n",
       "      <td>0.0</td>\n",
       "      <td>16.8</td>\n",
       "      <td>15.5</td>\n",
       "    </tr>\n",
       "    <tr>\n",
       "      <th>90668</th>\n",
       "      <td>2021-07-31 20:00:00</td>\n",
       "      <td>0.0</td>\n",
       "      <td>15.5</td>\n",
       "      <td>13.1</td>\n",
       "    </tr>\n",
       "    <tr>\n",
       "      <th>90669</th>\n",
       "      <td>2021-07-31 21:00:00</td>\n",
       "      <td>0.0</td>\n",
       "      <td>13.1</td>\n",
       "      <td>11.9</td>\n",
       "    </tr>\n",
       "    <tr>\n",
       "      <th>90670</th>\n",
       "      <td>2021-07-31 22:00:00</td>\n",
       "      <td>0.0</td>\n",
       "      <td>11.9</td>\n",
       "      <td>11.6</td>\n",
       "    </tr>\n",
       "    <tr>\n",
       "      <th>90671</th>\n",
       "      <td>2021-07-31 23:00:00</td>\n",
       "      <td>0.0</td>\n",
       "      <td>11.8</td>\n",
       "      <td>11.6</td>\n",
       "    </tr>\n",
       "  </tbody>\n",
       "</table>\n",
       "<p>90672 rows × 4 columns</p>\n",
       "</div>"
      ],
      "text/plain": [
       "                      Data  Precipitacao_Total  Temperatura_Maxima  \\\n",
       "0      2011-03-29 00:00:00                 0.0                24.3   \n",
       "1      2011-03-29 01:00:00                 0.0                23.0   \n",
       "2      2011-03-29 02:00:00                 0.0                22.9   \n",
       "3      2011-03-29 03:00:00                 0.0                22.5   \n",
       "4      2011-03-29 04:00:00                 0.0                22.3   \n",
       "...                    ...                 ...                 ...   \n",
       "90667  2021-07-31 19:00:00                 0.0                16.8   \n",
       "90668  2021-07-31 20:00:00                 0.0                15.5   \n",
       "90669  2021-07-31 21:00:00                 0.0                13.1   \n",
       "90670  2021-07-31 22:00:00                 0.0                11.9   \n",
       "90671  2021-07-31 23:00:00                 0.0                11.8   \n",
       "\n",
       "       Temperatura_Minima  \n",
       "0                    22.9  \n",
       "1                    22.7  \n",
       "2                    22.4  \n",
       "3                    22.3  \n",
       "4                    21.8  \n",
       "...                   ...  \n",
       "90667                15.5  \n",
       "90668                13.1  \n",
       "90669                11.9  \n",
       "90670                11.6  \n",
       "90671                11.6  \n",
       "\n",
       "[90672 rows x 4 columns]"
      ]
     },
     "execution_count": 11,
     "metadata": {},
     "output_type": "execute_result"
    }
   ],
   "source": [
    "pd.read_csv(station1, sep=';')"
   ]
  },
  {
   "cell_type": "code",
   "execution_count": null,
   "id": "9a063fd4",
   "metadata": {},
   "outputs": [],
   "source": []
  }
 ],
 "metadata": {
  "kernelspec": {
   "display_name": "Python 3 (ipykernel)",
   "language": "python",
   "name": "python3"
  },
  "language_info": {
   "codemirror_mode": {
    "name": "ipython",
    "version": 3
   },
   "file_extension": ".py",
   "mimetype": "text/x-python",
   "name": "python",
   "nbconvert_exporter": "python",
   "pygments_lexer": "ipython3",
   "version": "3.10.9"
  }
 },
 "nbformat": 4,
 "nbformat_minor": 5
}
